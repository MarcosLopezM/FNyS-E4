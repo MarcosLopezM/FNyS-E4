{
 "cells": [
  {
   "cell_type": "markdown",
   "metadata": {},
   "source": [
    "# Tarea 7: Aplicaciones"
   ]
  },
  {
   "cell_type": "markdown",
   "metadata": {},
   "source": [
    "## Problema 3: Actividad de 2g de madera para Maussan"
   ]
  },
  {
   "cell_type": "code",
   "execution_count": 1,
   "metadata": {},
   "outputs": [],
   "source": [
    "import numpy as np"
   ]
  },
  {
   "cell_type": "markdown",
   "metadata": {},
   "source": [
    "Para calcular la actividad de 2g de madera tenemos dos opciones: A partir del número de desintegraciones de un ser vivo o a partir de la razón de núcleos de $^{12}\\text{C}$ en comparación con $^{14}\\text{C}$.\n",
    "\n",
    "### Desintegraciones de un ser vivo\n",
    "\n",
    "$$\n",
    "    \\mathcal{A}_{0} = \\lambda N_{0} = 12 \\text{desintegraciones/min/g} * M_{\\text{material}} = 0.2 \\text{Bq} * M_{\\text{material}}\n",
    "$$\n",
    "\n",
    "### Razón de núcleos\n",
    "\n",
    "$$\n",
    "    \\mathcal{A}_{0} = \\lambda N_{0} = \\lambda \\cdot \\left(\\dfrac{N_{A}}{A}\\cdot M_{\\text{material}}\\cdot\\dfrac{\\#  ^{14}C}{\\#  ^{12}C}\\right)\n",
    "$$"
   ]
  },
  {
   "cell_type": "code",
   "execution_count": 2,
   "metadata": {},
   "outputs": [],
   "source": [
    "avogrados_number = 6.023e23 # mol^-1\n",
    "ratio_14C_12C = 1.3e-12 \n",
    "\n",
    "# Initial activity by disintegrations\n",
    "def initial_activity_by_disintegrations(mass):\n",
    "    return 0.2 * mass\n",
    "\n",
    "# Initial activity by ratio\n",
    "def initial_activity_by_ratio(decay_constant, mass):\n",
    "    return decay_constant * (avogrados_number / 12) * mass * ratio_14C_12C"
   ]
  },
  {
   "cell_type": "markdown",
   "metadata": {},
   "source": [
    "### Enunciado\n",
    "\n",
    "Maussan te da un pedazo de madera que dice ser proveniente de una una nave espacial que llegó en 1325 y se estacionó en el patio de su casa ¿qué actividad deberían tener 2 gramos de esa madera?"
   ]
  },
  {
   "cell_type": "markdown",
   "metadata": {},
   "source": [
    "#### Datos\n",
    "\n",
    "* $M_{\\text{madera}} = 2 \\text{g}$\n",
    "* $t = 2023 - 1325$"
   ]
  },
  {
   "cell_type": "code",
   "execution_count": 3,
   "metadata": {},
   "outputs": [],
   "source": [
    "def activity(initial_activity, half_life, time):\n",
    "    return initial_activity * np.exp((-np.log(2) / half_life) * time )"
   ]
  },
  {
   "cell_type": "code",
   "execution_count": 4,
   "metadata": {},
   "outputs": [],
   "source": [
    "initial_activity_by_disintegration = initial_activity_by_disintegrations(2)\n",
    "half_life_14C = 1.8e11\n",
    "decay_constant = np.log(2) / half_life_14C\n",
    "initial_activity_by_ratio = initial_activity_by_ratio(decay_constant, 2)\n",
    "time = (2023 - 1325) * 365 * 24 * 60 * 60"
   ]
  },
  {
   "cell_type": "code",
   "execution_count": 5,
   "metadata": {},
   "outputs": [],
   "source": [
    "activity_by_disintegrations = activity(initial_activity_by_disintegration, half_life_14C, time)\n",
    "activity_by_ratio = activity(initial_activity_by_ratio, half_life_14C, time)"
   ]
  },
  {
   "cell_type": "code",
   "execution_count": 6,
   "metadata": {},
   "outputs": [
    {
     "name": "stdout",
     "output_type": "stream",
     "text": [
      "0.3674913774498639\n",
      "0.46168427561282066\n"
     ]
    }
   ],
   "source": [
    "print(activity_by_disintegrations)\n",
    "print(activity_by_ratio)"
   ]
  },
  {
   "cell_type": "code",
   "execution_count": null,
   "metadata": {},
   "outputs": [],
   "source": []
  }
 ],
 "metadata": {
  "kernelspec": {
   "display_name": "Python 3",
   "language": "python",
   "name": "python3"
  },
  "language_info": {
   "codemirror_mode": {
    "name": "ipython",
    "version": 3
   },
   "file_extension": ".py",
   "mimetype": "text/x-python",
   "name": "python",
   "nbconvert_exporter": "python",
   "pygments_lexer": "ipython3",
   "version": "3.12.0"
  }
 },
 "nbformat": 4,
 "nbformat_minor": 2
}
