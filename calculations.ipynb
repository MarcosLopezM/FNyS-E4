{
 "cells": [
  {
   "cell_type": "markdown",
   "metadata": {},
   "source": [
    "# Tarea 7: Aplicaciones"
   ]
  },
  {
   "cell_type": "markdown",
   "metadata": {},
   "source": [
    "## Problema 3: Actividad de 2g de madera para Maussan"
   ]
  },
  {
   "cell_type": "code",
   "execution_count": 1,
   "metadata": {},
   "outputs": [],
   "source": [
    "import numpy as np"
   ]
  },
  {
   "cell_type": "markdown",
   "metadata": {},
   "source": [
    "Para calcular la actividad de 2g de madera tenemos dos opciones: A partir del número de desintegraciones de un ser vivo o a partir de la razón de núcleos de $^{12}\\text{C}$ en comparación con $^{14}\\text{C}$.\n",
    "\n",
    "### Desintegraciones de un ser vivo\n",
    "\n",
    "$$\n",
    "    \\mathcal{A}_{0} = \\lambda N_{0} = 12 \\text{desintegraciones/min/g} * M_{\\text{material}} = 0.2 \\text{Bq} * M_{\\text{material}}\n",
    "$$\n",
    "\n",
    "### Razón de núcleos\n",
    "\n",
    "$$\n",
    "    \\mathcal{A}_{0} = \\lambda N_{0} = \\lambda \\cdot \\left(\\dfrac{N_{A}}{A}\\cdot M_{\\text{material}}\\cdot\\dfrac{\\#  ^{14}C}{\\#  ^{12}C}\\right)\n",
    "$$"
   ]
  },
  {
   "cell_type": "code",
   "execution_count": 2,
   "metadata": {},
   "outputs": [],
   "source": [
    "avogrados_number = 6.023e23 # mol^-1\n",
    "ratio_14C_12C = 1.3e-12 \n",
    "\n",
    "# Initial activity by disintegrations\n",
    "def initial_activity_by_disintegrations(mass):\n",
    "    return 0.2 * mass\n",
    "\n",
    "# Initial activity by ratio\n",
    "def initial_activity_by_ratio(decay_constant, mass):\n",
    "    return decay_constant * (avogrados_number / 12) * mass * ratio_14C_12C"
   ]
  },
  {
   "cell_type": "markdown",
   "metadata": {},
   "source": [
    "### Enunciado\n",
    "\n",
    "Maussan te da un pedazo de madera que dice ser proveniente de una una nave espacial que llegó en 1325 y se estacionó en el patio de su casa ¿qué actividad deberían tener 2 gramos de esa madera?"
   ]
  },
  {
   "cell_type": "markdown",
   "metadata": {},
   "source": [
    "#### Datos\n",
    "\n",
    "* $M_{\\text{madera}} = 2 \\text{g}$\n",
    "* $t = 2023 - 1325$"
   ]
  },
  {
   "cell_type": "code",
   "execution_count": 3,
   "metadata": {},
   "outputs": [],
   "source": [
    "def activity(initial_activity, half_life, time):\n",
    "    return initial_activity * np.exp((-np.log(2) / half_life) * time )"
   ]
  },
  {
   "cell_type": "code",
   "execution_count": 4,
   "metadata": {},
   "outputs": [],
   "source": [
    "initial_activity_by_disintegration = initial_activity_by_disintegrations(2)\n",
    "half_life_14C = 1.8e11\n",
    "decay_constant = np.log(2) / half_life_14C\n",
    "initial_activity_by_ratio = initial_activity_by_ratio(decay_constant, 2)\n",
    "time = (2023 - 1325) * 365 * 24 * 60 * 60"
   ]
  },
  {
   "cell_type": "code",
   "execution_count": 5,
   "metadata": {},
   "outputs": [],
   "source": [
    "activity_by_disintegrations = activity(initial_activity_by_disintegration, half_life_14C, time)\n",
    "activity_by_ratio = activity(initial_activity_by_ratio, half_life_14C, time)"
   ]
  },
  {
   "cell_type": "code",
   "execution_count": 6,
   "metadata": {},
   "outputs": [
    {
     "name": "stdout",
     "output_type": "stream",
     "text": [
      "0.3674913774498639\n",
      "0.46168427561282066\n"
     ]
    }
   ],
   "source": [
    "print(activity_by_disintegrations)\n",
    "print(activity_by_ratio)"
   ]
  },
  {
   "cell_type": "markdown",
   "metadata": {},
   "source": [
    "## Problema 2: Potencia anual disipada por el Sol"
   ]
  },
  {
   "cell_type": "code",
   "execution_count": 7,
   "metadata": {},
   "outputs": [],
   "source": [
    "def eV_to_J(eV):\n",
    "    return eV * 1.6e-19"
   ]
  },
  {
   "cell_type": "code",
   "execution_count": 8,
   "metadata": {},
   "outputs": [
    {
     "data": {
      "text/plain": [
       "3.9487999999999995e-12"
      ]
     },
     "execution_count": 8,
     "metadata": {},
     "output_type": "execute_result"
    }
   ],
   "source": [
    "eV_to_J(24.68e6)"
   ]
  },
  {
   "cell_type": "code",
   "execution_count": 10,
   "metadata": {},
   "outputs": [],
   "source": [
    "def kg_to_g(kg):\n",
    "    return kg * 1000"
   ]
  },
  {
   "cell_type": "code",
   "execution_count": 11,
   "metadata": {},
   "outputs": [
    {
     "data": {
      "text/plain": [
       "1.0000000000000001e+33"
      ]
     },
     "execution_count": 11,
     "metadata": {},
     "output_type": "execute_result"
    }
   ],
   "source": [
    "kg_to_g(10e29)"
   ]
  },
  {
   "cell_type": "code",
   "execution_count": 12,
   "metadata": {},
   "outputs": [],
   "source": [
    "def number_of_nuclei(mass):\n",
    "    return kg_to_g(mass) * avogrados_number"
   ]
  },
  {
   "cell_type": "code",
   "execution_count": 13,
   "metadata": {},
   "outputs": [
    {
     "data": {
      "text/plain": [
       "6.023000000000001e+56"
      ]
     },
     "execution_count": 13,
     "metadata": {},
     "output_type": "execute_result"
    }
   ],
   "source": [
    "number_of_nuclei(10e29)"
   ]
  },
  {
   "cell_type": "code",
   "execution_count": 15,
   "metadata": {},
   "outputs": [
    {
     "name": "stdout",
     "output_type": "stream",
     "text": [
      "2.37836224e+45\n"
     ]
    }
   ],
   "source": [
    "dissipated_energy = eV_to_J(24.68e6) * number_of_nuclei(10e29)\n",
    "print(dissipated_energy)"
   ]
  },
  {
   "cell_type": "code",
   "execution_count": 21,
   "metadata": {},
   "outputs": [
    {
     "name": "stdout",
     "output_type": "stream",
     "text": [
      "7.541737189244039e+27\n"
     ]
    }
   ],
   "source": [
    "dissipated_energy_per_year = dissipated_energy / (10e9 * 365 * 24 * 60 * 60) # W/year\n",
    "print(dissipated_energy_per_year)"
   ]
  },
  {
   "cell_type": "code",
   "execution_count": 22,
   "metadata": {},
   "outputs": [
    {
     "data": {
      "text/plain": [
       "7.541737189244038e+17"
      ]
     },
     "execution_count": 22,
     "metadata": {},
     "output_type": "execute_result"
    }
   ],
   "source": [
    "dissipated_energy_per_year / 10e9"
   ]
  },
  {
   "cell_type": "markdown",
   "metadata": {},
   "source": [
    "## Problema 1: Cantidad de Uranio"
   ]
  },
  {
   "cell_type": "code",
   "execution_count": 24,
   "metadata": {},
   "outputs": [
    {
     "name": "stdout",
     "output_type": "stream",
     "text": [
      "9331200000000000.0\n"
     ]
    }
   ],
   "source": [
    "energy_dissipated = 100e6 * (3 * 360 * 24 * 60 * 60)\n",
    "print(energy_dissipated)"
   ]
  },
  {
   "cell_type": "code",
   "execution_count": 27,
   "metadata": {},
   "outputs": [
    {
     "name": "stdout",
     "output_type": "stream",
     "text": [
      "0.20736\n"
     ]
    }
   ],
   "source": [
    "mass_fuel_uranium = (2 * energy_dissipated) / (3e8) ** 2\n",
    "print(mass_fuel_uranium)"
   ]
  },
  {
   "cell_type": "code",
   "execution_count": null,
   "metadata": {},
   "outputs": [],
   "source": []
  }
 ],
 "metadata": {
  "kernelspec": {
   "display_name": "Python 3",
   "language": "python",
   "name": "python3"
  },
  "language_info": {
   "codemirror_mode": {
    "name": "ipython",
    "version": 3
   },
   "file_extension": ".py",
   "mimetype": "text/x-python",
   "name": "python",
   "nbconvert_exporter": "python",
   "pygments_lexer": "ipython3",
   "version": "3.12.0"
  }
 },
 "nbformat": 4,
 "nbformat_minor": 2
}
